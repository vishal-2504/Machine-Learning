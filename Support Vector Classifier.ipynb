{
  "nbformat": 4,
  "nbformat_minor": 0,
  "metadata": {
    "colab": {
      "name": "ML_Assign5.ipynb",
      "provenance": []
    },
    "kernelspec": {
      "name": "python3",
      "display_name": "Python 3"
    },
    "language_info": {
      "name": "python"
    }
  },
  "cells": [
    {
      "cell_type": "code",
      "metadata": {
        "id": "cygKJuYuRmoy"
      },
      "source": [
        "from sklearn.datasets import fetch_openml\n",
        "import numpy as np\n",
        "import matplotlib.pyplot as plt\n",
        "import pandas as pd\n",
        "import math\n",
        "from sklearn.linear_model import LinearRegression\n",
        "from sklearn.metrics import mean_squared_error\n",
        "from sklearn.preprocessing import MinMaxScaler\n",
        "import seaborn as sb\n",
        "import matplotlib.patches as p\n",
        "from sklearn.model_selection import train_test_split\n",
        "from sklearn.metrics import f1_score\n",
        "from sklearn.metrics import precision_score\n",
        "from sklearn.metrics import accuracy_score\n",
        "from sklearn.metrics import recall_score\n",
        "from sklearn.linear_model import LogisticRegression\n",
        "from scipy import stats\n",
        "from sklearn.linear_model import SGDClassifier\n",
        "from sklearn.discriminant_analysis import LinearDiscriminantAnalysis\n",
        "from sklearn.metrics import plot_confusion_matrix\n",
        "from sklearn.discriminant_analysis import QuadraticDiscriminantAnalysis\n",
        "from sklearn.naive_bayes import GaussianNB\n",
        "from sklearn.svm import SVC\n",
        "from cvxopt import matrix as cvxopt_matrix\n",
        "from cvxopt import solvers as cvxopt_solvers"
      ],
      "execution_count": null,
      "outputs": []
    },
    {
      "cell_type": "markdown",
      "metadata": {
        "id": "4kx1-Q8dTm2s"
      },
      "source": [
        "---\n",
        "## **Q.1)**"
      ]
    },
    {
      "cell_type": "markdown",
      "metadata": {
        "id": "FqADsNGZTo9x"
      },
      "source": [
        "# 1-a)"
      ]
    },
    {
      "cell_type": "code",
      "metadata": {
        "id": "mCQ-L7BtSDVF"
      },
      "source": [
        "data = pd.read_csv('Iris.csv')\n",
        "x1 = np.array(data['PetalLengthCm'])\n",
        "x2 = np.array(data['PetalWidthCm'])\n",
        "x3 = np.array(data['SepalLengthCm'])\n",
        "x4 = np.array(data['SepalWidthCm'])\n",
        "y = np.array(data['Species'])\n",
        "x=np.c_[x1,x2,x3,x4]\n",
        "x_train,x_test,y_train,y_test = train_test_split(x,y,test_size=0.1,random_state=25)"
      ],
      "execution_count": null,
      "outputs": []
    },
    {
      "cell_type": "code",
      "metadata": {
        "colab": {
          "base_uri": "https://localhost:8080/"
        },
        "id": "g-0_pzRuXAgE",
        "outputId": "2298e63d-1928-49d8-96bb-237ef117572c"
      },
      "source": [
        "clf = SVC()\n",
        "clf.fit(x_train,y_train)"
      ],
      "execution_count": null,
      "outputs": [
        {
          "output_type": "execute_result",
          "data": {
            "text/plain": [
              "SVC(C=1.0, break_ties=False, cache_size=200, class_weight=None, coef0=0.0,\n",
              "    decision_function_shape='ovr', degree=3, gamma='scale', kernel='rbf',\n",
              "    max_iter=-1, probability=False, random_state=None, shrinking=True,\n",
              "    tol=0.001, verbose=False)"
            ]
          },
          "metadata": {},
          "execution_count": 33
        }
      ]
    },
    {
      "cell_type": "code",
      "metadata": {
        "colab": {
          "base_uri": "https://localhost:8080/",
          "height": 283
        },
        "id": "Gw03LbDOXVDw",
        "outputId": "bf878951-853c-48a0-bb80-3d04bc1270a9"
      },
      "source": [
        "plot_confusion_matrix(clf, x_test, y_test)  \n",
        "plt.show()"
      ],
      "execution_count": null,
      "outputs": [
        {
          "output_type": "display_data",
          "data": {
            "image/png": "[encoded data removed]",
            "text/plain": [
              "<Figure size 432x288 with 2 Axes>"
            ]
          },
          "metadata": {
            "needs_background": "light"
          }
        }
      ]
    },
    {
      "cell_type": "code",
      "metadata": {
        "colab": {
          "base_uri": "https://localhost:8080/"
        },
        "id": "6x5FPEhRXht-",
        "outputId": "c0d19da8-0050-40ed-f63a-4730cd0fda75"
      },
      "source": [
        "y_predicted = clf.predict(x_test)\n",
        "print('Accuracy:', accuracy_score(y_test,y_predicted))"
      ],
      "execution_count": null,
      "outputs": [
        {
          "output_type": "stream",
          "name": "stdout",
          "text": [
            "Accuracy: 1.0\n"
          ]
        }
      ]
    },
    {
      "cell_type": "markdown",
      "metadata": {
        "id": "JQ_84xZXX5x0"
      },
      "source": [
        "# 1-b)"
      ]
    },
    {
      "cell_type": "code",
      "metadata": {
        "id": "WbaeDUoWX6pO"
      },
      "source": [
        "#normalizing the data \n",
        "\n",
        "x1_normal = x1-min(x1)\n",
        "x1_normal = x1_normal/max(x1_normal)\n",
        "x2_normal = x2-min(x2)\n",
        "x2_normal = x2_normal/max(x2_normal)\n",
        "x3_normal = x3-min(x3)\n",
        "x3_normal = x3_normal/max(x3_normal)\n",
        "x4_normal = x4-min(x4)\n",
        "x4_normal = x4_normal/max(x4_normal)"
      ],
      "execution_count": null,
      "outputs": []
    },
    {
      "cell_type": "code",
      "metadata": {
        "id": "HkCoaaGhYW3l"
      },
      "source": [
        "x=np.c_[x1_normal,x2_normal,x3_normal,x4_normal]\n",
        "x_train,x_test,y_train,y_test = train_test_split(x,y,test_size=0.1,random_state=25)"
      ],
      "execution_count": null,
      "outputs": []
    },
    {
      "cell_type": "code",
      "metadata": {
        "colab": {
          "base_uri": "https://localhost:8080/"
        },
        "id": "WxcaNRS_Y9PO",
        "outputId": "4677537a-33dc-486d-bb90-7e801a4bdbbb"
      },
      "source": [
        "clf = SVC()\n",
        "clf.fit(x_train,y_train)"
      ],
      "execution_count": null,
      "outputs": [
        {
          "output_type": "execute_result",
          "data": {
            "text/plain": [
              "SVC(C=1.0, break_ties=False, cache_size=200, class_weight=None, coef0=0.0,\n",
              "    decision_function_shape='ovr', degree=3, gamma='scale', kernel='rbf',\n",
              "    max_iter=-1, probability=False, random_state=None, shrinking=True,\n",
              "    tol=0.001, verbose=False)"
            ]
          },
          "metadata": {},
          "execution_count": 38
        }
      ]
    },
    {
      "cell_type": "code",
      "metadata": {
        "colab": {
          "base_uri": "https://localhost:8080/",
          "height": 283
        },
        "id": "lMycrpu-ZAKX",
        "outputId": "c34d2a52-1b05-4de8-b7c6-0e75c01fa36a"
      },
      "source": [
        "plot_confusion_matrix(clf, x_test, y_test)  \n",
        "plt.show()"
      ],
      "execution_count": null,
      "outputs": [
        {
          "output_type": "display_data",
          "data": {
            "image/png": "[encoded data removed]",
            "text/plain": [
              "<Figure size 432x288 with 2 Axes>"
            ]
          },
          "metadata": {
            "needs_background": "light"
          }
        }
      ]
    },
    {
      "cell_type": "code",
      "metadata": {
        "colab": {
          "base_uri": "https://localhost:8080/"
        },
        "id": "yStKjoqjZDeI",
        "outputId": "93b84ea9-9d6e-42c3-93c1-d2f5c78f2539"
      },
      "source": [
        "y_predicted = clf.predict(x_test)\n",
        "print('Accuracy:', accuracy_score(y_test,y_predicted))"
      ],
      "execution_count": null,
      "outputs": [
        {
          "output_type": "stream",
          "name": "stdout",
          "text": [
            "Accuracy: 0.8666666666666667\n"
          ]
        }
      ]
    },
    {
      "cell_type": "markdown",
      "metadata": {
        "id": "Ii2yGuhoZbND"
      },
      "source": [
        "# 1-c)"
      ]
    },
    {
      "cell_type": "code",
      "metadata": {
        "colab": {
          "base_uri": "https://localhost:8080/"
        },
        "id": "egBZnk7fZcLN",
        "outputId": "4b98f859-16e8-433d-e32a-a47724debd87"
      },
      "source": [
        "#1) Linear Kernel\n",
        "clf = SVC(kernel='linear')\n",
        "clf.fit(x_train,y_train)"
      ],
      "execution_count": null,
      "outputs": [
        {
          "output_type": "execute_result",
          "data": {
            "text/plain": [
              "SVC(C=1.0, break_ties=False, cache_size=200, class_weight=None, coef0=0.0,\n",
              "    decision_function_shape='ovr', degree=3, gamma='scale', kernel='linear',\n",
              "    max_iter=-1, probability=False, random_state=None, shrinking=True,\n",
              "    tol=0.001, verbose=False)"
            ]
          },
          "metadata": {},
          "execution_count": 42
        }
      ]
    },
    {
      "cell_type": "code",
      "metadata": {
        "colab": {
          "base_uri": "https://localhost:8080/",
          "height": 283
        },
        "id": "wS3n1KPraT4Q",
        "outputId": "23486e63-1d2a-4754-eaf4-cb5c9d5ed2b9"
      },
      "source": [
        "plot_confusion_matrix(clf, x_test, y_test)  \n",
        "plt.show()"
      ],
      "execution_count": null,
      "outputs": [
        {
          "output_type": "display_data",
          "data": {
            "image/png": "[encoded data removed]",
            "text/plain": [
              "<Figure size 432x288 with 2 Axes>"
            ]
          },
          "metadata": {
            "needs_background": "light"
          }
        }
      ]
    },
    {
      "cell_type": "code",
      "metadata": {
        "colab": {
          "base_uri": "https://localhost:8080/"
        },
        "id": "MG8Iixq0aUwX",
        "outputId": "1ae413db-4587-497b-b1c8-46bf148d187f"
      },
      "source": [
        "y_predicted = clf.predict(x_test)\n",
        "print('Accuracy:', accuracy_score(y_test,y_predicted))"
      ],
      "execution_count": null,
      "outputs": [
        {
          "output_type": "stream",
          "name": "stdout",
          "text": [
            "Accuracy: 0.8666666666666667\n"
          ]
        }
      ]
    },
    {
      "cell_type": "code",
      "metadata": {
        "colab": {
          "base_uri": "https://localhost:8080/"
        },
        "id": "0lZVozaTadOq",
        "outputId": "e8c9310c-ccf7-4ec2-e937-f95000927362"
      },
      "source": [
        "#2) Poly Kernel\n",
        "clf = SVC(kernel='poly')\n",
        "clf.fit(x_train,y_train)"
      ],
      "execution_count": null,
      "outputs": [
        {
          "output_type": "execute_result",
          "data": {
            "text/plain": [
              "SVC(C=1.0, break_ties=False, cache_size=200, class_weight=None, coef0=0.0,\n",
              "    decision_function_shape='ovr', degree=3, gamma='scale', kernel='poly',\n",
              "    max_iter=-1, probability=False, random_state=None, shrinking=True,\n",
              "    tol=0.001, verbose=False)"
            ]
          },
          "metadata": {},
          "execution_count": 45
        }
      ]
    },
    {
      "cell_type": "code",
      "metadata": {
        "colab": {
          "base_uri": "https://localhost:8080/",
          "height": 283
        },
        "id": "hlNNnCk9ahjZ",
        "outputId": "cbb0e41b-88df-4b5a-ca57-f1c8763cb4e1"
      },
      "source": [
        "plot_confusion_matrix(clf, x_test, y_test)  \n",
        "plt.show()"
      ],
      "execution_count": null,
      "outputs": [
        {
          "output_type": "display_data",
          "data": {
            "image/png": "[encoded data removed]",
            "text/plain": [
              "<Figure size 432x288 with 2 Axes>"
            ]
          },
          "metadata": {
            "needs_background": "light"
          }
        }
      ]
    },
    {
      "cell_type": "code",
      "metadata": {
        "colab": {
          "base_uri": "https://localhost:8080/"
        },
        "id": "2rP35GPXajjm",
        "outputId": "016f03e3-03be-4e19-e340-aa558cad9f1b"
      },
      "source": [
        "y_predicted = clf.predict(x_test)\n",
        "print('Accuracy:', accuracy_score(y_test,y_predicted))"
      ],
      "execution_count": null,
      "outputs": [
        {
          "output_type": "stream",
          "name": "stdout",
          "text": [
            "Accuracy: 0.8666666666666667\n"
          ]
        }
      ]
    },
    {
      "cell_type": "code",
      "metadata": {
        "colab": {
          "base_uri": "https://localhost:8080/"
        },
        "id": "rGxK-axqaqn3",
        "outputId": "b221c896-86ed-4593-9164-971c4f22b730"
      },
      "source": [
        "#3) rbf Kernel\n",
        "clf = SVC(kernel='rbf')\n",
        "clf.fit(x_train,y_train)"
      ],
      "execution_count": null,
      "outputs": [
        {
          "output_type": "execute_result",
          "data": {
            "text/plain": [
              "SVC(C=1.0, break_ties=False, cache_size=200, class_weight=None, coef0=0.0,\n",
              "    decision_function_shape='ovr', degree=3, gamma='scale', kernel='rbf',\n",
              "    max_iter=-1, probability=False, random_state=None, shrinking=True,\n",
              "    tol=0.001, verbose=False)"
            ]
          },
          "metadata": {},
          "execution_count": 49
        }
      ]
    },
    {
      "cell_type": "code",
      "metadata": {
        "colab": {
          "base_uri": "https://localhost:8080/",
          "height": 283
        },
        "id": "AOEZrYzRa0Er",
        "outputId": "30bfe577-6b17-45f6-d18d-01d21ba30e58"
      },
      "source": [
        "plot_confusion_matrix(clf, x_test, y_test)  \n",
        "plt.show()"
      ],
      "execution_count": null,
      "outputs": [
        {
          "output_type": "display_data",
          "data": {
            "image/png": "[encoded data removed]",
            "text/plain": [
              "<Figure size 432x288 with 2 Axes>"
            ]
          },
          "metadata": {
            "needs_background": "light"
          }
        }
      ]
    },
    {
      "cell_type": "code",
      "metadata": {
        "colab": {
          "base_uri": "https://localhost:8080/"
        },
        "id": "02RhyKqla13l",
        "outputId": "a8024fc4-2d1a-48c9-e2b7-85ee9db403d8"
      },
      "source": [
        "y_predicted = clf.predict(x_test)\n",
        "print('Accuracy:', accuracy_score(y_test,y_predicted))"
      ],
      "execution_count": null,
      "outputs": [
        {
          "output_type": "stream",
          "name": "stdout",
          "text": [
            "Accuracy: 0.8666666666666667\n"
          ]
        }
      ]
    },
    {
      "cell_type": "code",
      "metadata": {
        "colab": {
          "base_uri": "https://localhost:8080/",
          "height": 301
        },
        "id": "9-EqruDNa3S3",
        "outputId": "32432712-e669-4cda-884d-7493101504ad"
      },
      "source": [
        "#4) sigmoid kernel\n",
        "clf = SVC(kernel='rbf')\n",
        "clf.fit(x_train,y_train)\n",
        "plot_confusion_matrix(clf, x_test, y_test)  \n",
        "plt.show()\n",
        "y_predicted = clf.predict(x_test)\n",
        "print('Accuracy:', accuracy_score(y_test,y_predicted))"
      ],
      "execution_count": null,
      "outputs": [
        {
          "output_type": "display_data",
          "data": {
            "image/png": "[encoded data removed]",
            "text/plain": [
              "<Figure size 432x288 with 2 Axes>"
            ]
          },
          "metadata": {
            "needs_background": "light"
          }
        },
        {
          "output_type": "stream",
          "name": "stdout",
          "text": [
            "Accuracy: 0.8666666666666667\n"
          ]
        }
      ]
    },
    {
      "cell_type": "code",
      "metadata": {
        "colab": {
          "base_uri": "https://localhost:8080/",
          "height": 301
        },
        "id": "Ip4qGhdCbAGt",
        "outputId": "2639045f-78c4-4701-8c7b-a3eda38da7cd"
      },
      "source": [
        "#5) precomputed kernel\n",
        "clf = SVC(kernel='precomputed')\n",
        "kernel_train = np.dot(x_train, x_train.T)  # linear kernel\n",
        "clf.fit(kernel_train, y_train)\n",
        "kernel_test = np.dot(x_test, x_train.T)\n",
        "y_predicted = clf.predict(kernel_test)\n",
        "plot_confusion_matrix(clf, kernel_test, y_test)  \n",
        "plt.show()\n",
        "print('Accuracy:', accuracy_score(y_test,y_predicted))"
      ],
      "execution_count": null,
      "outputs": [
        {
          "output_type": "display_data",
          "data": {
            "image/png": "[encoded data removed]",
            "text/plain": [
              "<Figure size 432x288 with 2 Axes>"
            ]
          },
          "metadata": {
            "needs_background": "light"
          }
        },
        {
          "output_type": "stream",
          "name": "stdout",
          "text": [
            "Accuracy: 0.8666666666666667\n"
          ]
        }
      ]
    },
    {
      "cell_type": "markdown",
      "metadata": {
        "id": "Pn1VNbT2cp-O"
      },
      "source": [
        "---\n",
        "## **Q.2)**"
      ]
    },
    {
      "cell_type": "code",
      "metadata": {
        "id": "Jkf7jnzIcsWU"
      },
      "source": [
        "data = pd.read_csv('bill_authentication.csv')\n",
        "x1 = np.array(data['Variance'])\n",
        "x2 = np.array(data['Skewness'])\n",
        "x3 = np.array(data['Curtosis'])\n",
        "x4 = np.array(data['Entropy'])\n",
        "y = np.array(data['Class'])\n",
        "x=np.c_[x1,x2,x3,x4]\n",
        "x_train,x_test,y_train,y_test = train_test_split(x,y,test_size=0.1,random_state=25)"
      ],
      "execution_count": null,
      "outputs": []
    },
    {
      "cell_type": "code",
      "metadata": {
        "colab": {
          "base_uri": "https://localhost:8080/"
        },
        "id": "ak8KIEDwg0od",
        "outputId": "d88ff668-46d8-438e-c1cb-6bd0b51d2a5c"
      },
      "source": [
        "clf = SVC()\n",
        "clf.fit(x_train,y_train)"
      ],
      "execution_count": null,
      "outputs": [
        {
          "output_type": "execute_result",
          "data": {
            "text/plain": [
              "SVC(C=1.0, break_ties=False, cache_size=200, class_weight=None, coef0=0.0,\n",
              "    decision_function_shape='ovr', degree=3, gamma='scale', kernel='rbf',\n",
              "    max_iter=-1, probability=False, random_state=None, shrinking=True,\n",
              "    tol=0.001, verbose=False)"
            ]
          },
          "metadata": {},
          "execution_count": 4
        }
      ]
    },
    {
      "cell_type": "code",
      "metadata": {
        "colab": {
          "base_uri": "https://localhost:8080/",
          "height": 283
        },
        "id": "QeZfuk51g6Zt",
        "outputId": "43e78f77-12f7-4ec6-cfa6-119034145ba5"
      },
      "source": [
        "plot_confusion_matrix(clf, x_test, y_test)  \n",
        "plt.show()"
      ],
      "execution_count": null,
      "outputs": [
        {
          "output_type": "display_data",
          "data": {
            "image/png": "[encoded data removed]",
            "text/plain": [
              "<Figure size 432x288 with 2 Axes>"
            ]
          },
          "metadata": {
            "needs_background": "light"
          }
        }
      ]
    },
    {
      "cell_type": "code",
      "metadata": {
        "colab": {
          "base_uri": "https://localhost:8080/"
        },
        "id": "1K2ZIILSg9F0",
        "outputId": "0dda04dc-8b87-4549-a089-f2f2346fd69f"
      },
      "source": [
        "y_predicted = clf.predict(x_test)\n",
        "print('Accuracy:', accuracy_score(y_test,y_predicted))"
      ],
      "execution_count": null,
      "outputs": [
        {
          "output_type": "stream",
          "name": "stdout",
          "text": [
            "Accuracy: 1.0\n"
          ]
        }
      ]
    },
    {
      "cell_type": "code",
      "metadata": {
        "id": "HukWzhIjGXBx"
      },
      "source": [
        "#normalizing the data \n",
        "\n",
        "x1_normal = x1-min(x1)\n",
        "x1_normal = x1_normal/max(x1_normal)\n",
        "x2_normal = x2-min(x2)\n",
        "x2_normal = x2_normal/max(x2_normal)\n",
        "x3_normal = x3-min(x3)\n",
        "x3_normal = x3_normal/max(x3_normal)\n",
        "x4_normal = x4-min(x4)\n",
        "x4_normal = x4_normal/max(x4_normal)"
      ],
      "execution_count": null,
      "outputs": []
    },
    {
      "cell_type": "code",
      "metadata": {
        "id": "W2g1MssMGmKt"
      },
      "source": [
        "x=np.c_[x1_normal,x2_normal,x3_normal,x4_normal]\n",
        "x_train,x_test,y_train,y_test = train_test_split(x,y,test_size=0.1,random_state=25)"
      ],
      "execution_count": null,
      "outputs": []
    },
    {
      "cell_type": "code",
      "metadata": {
        "colab": {
          "base_uri": "https://localhost:8080/",
          "height": 297
        },
        "id": "dO7U_haqg-CH",
        "outputId": "9a6daf03-731f-46ce-f8ae-a9f2da3e5489"
      },
      "source": [
        "#1) linear kernel\n",
        "clf = SVC(kernel='linear')\n",
        "clf.fit(x_train,y_train)\n",
        "plot_confusion_matrix(clf, x_test, y_test)  \n",
        "plt.show()\n",
        "y_predicted = clf.predict(x_test)\n",
        "print('Accuracy:', accuracy_score(y_test,y_predicted))"
      ],
      "execution_count": null,
      "outputs": [
        {
          "output_type": "display_data",
          "data": {
            "image/png": "[encoded data removed]",
            "text/plain": [
              "<Figure size 432x288 with 2 Axes>"
            ]
          },
          "metadata": {
            "needs_background": "light"
          }
        },
        {
          "output_type": "stream",
          "name": "stdout",
          "text": [
            "Accuracy: 0.9927536231884058\n"
          ]
        }
      ]
    },
    {
      "cell_type": "code",
      "metadata": {
        "colab": {
          "base_uri": "https://localhost:8080/",
          "height": 301
        },
        "id": "7YAUeA_PhEd_",
        "outputId": "6a4dc61e-2a0d-4fe9-c258-9a689a35fe57"
      },
      "source": [
        "#2) poly kernel\n",
        "clf = SVC(kernel='poly')\n",
        "clf.fit(x_train,y_train)\n",
        "plot_confusion_matrix(clf, x_test, y_test)  \n",
        "plt.show()\n",
        "y_predicted = clf.predict(x_test)\n",
        "print('Accuracy:', accuracy_score(y_test,y_predicted))"
      ],
      "execution_count": null,
      "outputs": [
        {
          "output_type": "display_data",
          "data": {
            "image/png": "[encoded data removed]",
            "text/plain": [
              "<Figure size 432x288 with 2 Axes>"
            ]
          },
          "metadata": {
            "needs_background": "light"
          }
        },
        {
          "output_type": "stream",
          "name": "stdout",
          "text": [
            "Accuracy: 1.0\n"
          ]
        }
      ]
    },
    {
      "cell_type": "code",
      "metadata": {
        "colab": {
          "base_uri": "https://localhost:8080/",
          "height": 301
        },
        "id": "7WiZ8lWVhJo5",
        "outputId": "4d98ff0a-4754-45f5-af18-72dbbc77b917"
      },
      "source": [
        "#3) rbf kernel\n",
        "clf = SVC(kernel='rbf')\n",
        "clf.fit(x_train,y_train)\n",
        "plot_confusion_matrix(clf, x_test, y_test)  \n",
        "plt.show()\n",
        "y_predicted = clf.predict(x_test)\n",
        "print('Accuracy:', accuracy_score(y_test,y_predicted))"
      ],
      "execution_count": null,
      "outputs": [
        {
          "output_type": "display_data",
          "data": {
            "image/png": "[encoded data removed]",
            "text/plain": [
              "<Figure size 432x288 with 2 Axes>"
            ]
          },
          "metadata": {
            "needs_background": "light"
          }
        },
        {
          "output_type": "stream",
          "name": "stdout",
          "text": [
            "Accuracy: 1.0\n"
          ]
        }
      ]
    },
    {
      "cell_type": "code",
      "metadata": {
        "id": "cjk583HVhOf4",
        "colab": {
          "base_uri": "https://localhost:8080/",
          "height": 301
        },
        "outputId": "e180cff5-8e32-425b-80f2-d0b8b19b41cd"
      },
      "source": [
        "#4) sigmoid kernel\n",
        "clf = SVC(kernel='sigmoid')\n",
        "clf.fit(x_train,y_train)\n",
        "plot_confusion_matrix(clf, x_test, y_test)  \n",
        "plt.show()\n",
        "y_predicted = clf.predict(x_test)\n",
        "print('Accuracy:', accuracy_score(y_test,y_predicted))"
      ],
      "execution_count": null,
      "outputs": [
        {
          "output_type": "display_data",
          "data": {
            "image/png": "[encoded data removed]",
            "text/plain": [
              "<Figure size 432x288 with 2 Axes>"
            ]
          },
          "metadata": {
            "needs_background": "light"
          }
        },
        {
          "output_type": "stream",
          "name": "stdout",
          "text": [
            "Accuracy: 0.5072463768115942\n"
          ]
        }
      ]
    },
    {
      "cell_type": "code",
      "metadata": {
        "id": "qXY7ujO8hTQ-",
        "colab": {
          "base_uri": "https://localhost:8080/",
          "height": 297
        },
        "outputId": "2d6bb2dc-7262-4c1e-8405-1816f8f35cff"
      },
      "source": [
        "#5) precomputed kernel\n",
        "clf = SVC(kernel='precomputed')\n",
        "kernel_train = np.dot(x_train, x_train.T)  # linear kernel\n",
        "clf.fit(kernel_train, y_train)\n",
        "kernel_test = np.dot(x_test, x_train.T)\n",
        "y_predicted = clf.predict(kernel_test)\n",
        "plot_confusion_matrix(clf, kernel_test, y_test)  \n",
        "plt.show()\n",
        "print('Accuracy:', accuracy_score(y_test,y_predicted))"
      ],
      "execution_count": null,
      "outputs": [
        {
          "output_type": "display_data",
          "data": {
            "image/png": "[encoded data removed]",
            "text/plain": [
              "<Figure size 432x288 with 2 Axes>"
            ]
          },
          "metadata": {
            "needs_background": "light"
          }
        },
        {
          "output_type": "stream",
          "name": "stdout",
          "text": [
            "Accuracy: 0.9927536231884058\n"
          ]
        }
      ]
    },
    {
      "cell_type": "markdown",
      "metadata": {
        "id": "goPhmIBbN2Jv"
      },
      "source": [
        "---\n",
        "## **Q.3)**"
      ]
    },
    {
      "cell_type": "code",
      "metadata": {
        "id": "cAlYflAnN3Wf"
      },
      "source": [
        "#implementation of hard-margin-svm-classifier using cvxopt\n",
        "\n",
        "def hard_margin_svm(X, y):\n",
        "\n",
        "  m,n = X.shape\n",
        "  y = y.reshape(-1,1) * 1.\n",
        "  X_dash = y * X\n",
        "  H = np.dot(X_dash , X_dash.T) * 1.\n",
        "\n",
        "  #Converting into cvxopt format\n",
        "  P = cvxopt_matrix(H)\n",
        "  q = cvxopt_matrix(-np.ones((m, 1)))\n",
        "  G = cvxopt_matrix(-np.eye(m))\n",
        "  h = cvxopt_matrix(np.zeros(m))\n",
        "  A = cvxopt_matrix(y.reshape(1, -1))\n",
        "  b = cvxopt_matrix(np.zeros(1))\n",
        "\n",
        "  #Setting solver parameters \n",
        "  cvxopt_solvers.options['show_progress'] = False\n",
        "  cvxopt_solvers.options['abstol'] = 1e-10\n",
        "  cvxopt_solvers.options['reltol'] = 1e-10\n",
        "  cvxopt_solvers.options['feastol'] = 1e-10\n",
        "\n",
        "  #Run solver\n",
        "  sol = cvxopt_solvers.qp(P, q, G, h, A, b)\n",
        "  alphas = np.array(sol['x'])\n",
        "\n",
        "  #theta parameter in vectorized form\n",
        "  theta = ((y * alphas).T @ X).reshape(-1,1)\n",
        "\n",
        "  #Selecting the set of indices svs corresponding to non zero parameters\n",
        "  svs = (alphas > 1e-4).flatten()\n",
        "\n",
        "  #Computing theta0\n",
        "  theta0 = y[svs] - np.dot(X[svs], theta)\n",
        "\n",
        "  return theta,theta0[0],svs"
      ],
      "execution_count": null,
      "outputs": []
    },
    {
      "cell_type": "code",
      "metadata": {
        "id": "iQYKaFGhPSGR"
      },
      "source": [
        "#hard-margin-svm-classifier predictor for implemented classifier\n",
        "\n",
        "def hard_margin_svm_predict(theta, theta0, x):\n",
        "  y = np.matmul(x,theta)+theta0\n",
        "  for i in range(len(y)):\n",
        "    if y[i]>=0:\n",
        "      y[i]=1\n",
        "    else:\n",
        "      y[i]=-1\n",
        "  return y"
      ],
      "execution_count": null,
      "outputs": []
    },
    {
      "cell_type": "code",
      "metadata": {
        "id": "bviq5fROP0EW"
      },
      "source": [
        "#reading iris dataset\n",
        "\n",
        "data = pd.read_csv('Iris.csv')\n",
        "x1 = np.array(data['SepalLengthCm'])\n",
        "x2 = np.array(data['PetalWidthCm'])\n",
        "y = np.array(data['Species'])\n",
        "for i in range(len(y)):\n",
        "  if y[i]=='Iris-setosa':\n",
        "    y[i]=1\n",
        "  else:\n",
        "    y[i]=-1\n",
        "y = y.astype(int)\n",
        "x=np.c_[x1,x2]\n",
        "x_train,x_test,y_train,y_test = train_test_split(x,y,test_size=0.1,random_state=25)"
      ],
      "execution_count": null,
      "outputs": []
    },
    {
      "cell_type": "code",
      "metadata": {
        "id": "cbP1rubFQ5uy"
      },
      "source": [
        "#calling implemented svm \n",
        "theta,theta0,svs = hard_margin_svm(x_train, y_train)"
      ],
      "execution_count": null,
      "outputs": []
    },
    {
      "cell_type": "code",
      "metadata": {
        "colab": {
          "base_uri": "https://localhost:8080/"
        },
        "id": "u1hcoBUCVr8u",
        "outputId": "4b54a1ac-666a-4766-d34c-bb997d16fd0b"
      },
      "source": [
        "#printing the parameters for the decision boundary hyperplane\n",
        "\n",
        "print('Theta:',theta)\n",
        "print('Theta0:',theta0)"
      ],
      "execution_count": null,
      "outputs": [
        {
          "output_type": "stream",
          "name": "stdout",
          "text": [
            "Theta: [[-5.38433585e-12]\n",
            " [-5.00000000e+00]]\n",
            "Theta0: [4.]\n"
          ]
        }
      ]
    },
    {
      "cell_type": "code",
      "metadata": {
        "colab": {
          "base_uri": "https://localhost:8080/"
        },
        "id": "ChRSljtJWRAf",
        "outputId": "4be92776-7305-4f2f-d728-d672ad124ab8"
      },
      "source": [
        "#accuracy for implemented model\n",
        "y_predicted = hard_margin_svm_predict(theta, theta0, x_test)\n",
        "print('Accuracy:', accuracy_score(y_test,y_predicted))"
      ],
      "execution_count": null,
      "outputs": [
        {
          "output_type": "stream",
          "name": "stdout",
          "text": [
            "Accuracy: 1.0\n"
          ]
        }
      ]
    },
    {
      "cell_type": "code",
      "metadata": {
        "colab": {
          "base_uri": "https://localhost:8080/",
          "height": 279
        },
        "id": "lBU5XRzrX-uG",
        "outputId": "f1120f3f-67a0-48a2-a24f-659d209210df"
      },
      "source": [
        "#plotting decision boundary, support vectors, data-points\n",
        "\n",
        "epsilon = 1e-4\n",
        "x_1 = np.arange(4,10,0.01)\n",
        "x_2 = np.arange(0,3,0.01)\n",
        "x_ax = []\n",
        "y_ax = []\n",
        "for i in x_1:\n",
        "  for j in x_2:\n",
        "    if theta[0]*i + theta[1]*j + theta0 <= epsilon and theta[0]*i + theta[1]*j + theta0 >= -epsilon:\n",
        "      x_ax.append(i)\n",
        "      y_ax.append(j)\n",
        "plt.plot(x_ax,y_ax,color='black',label='Decision boundary')\n",
        "plt.xlabel('SepalLengthCm')\n",
        "plt.ylabel('PetalWidthCm')\n",
        "t1 = []\n",
        "t2 = []\n",
        "t11=[]\n",
        "t22=[]\n",
        "for i in range(len(svs)):\n",
        "  if svs[i] == True:\n",
        "    if y_train[i]==1:\n",
        "      t1.append(x_train[i][0])\n",
        "      t2.append(x_train[i][1])\n",
        "    else:\n",
        "      t11.append(x_train[i][0])\n",
        "      t22.append(x_train[i][1])\n",
        "a1 = np.append(np.array(t1),np.array(t11))\n",
        "a2 = np.append(np.array(t2),np.array(t22))\n",
        "plt.scatter(x_train[:,0],x_train[:,1],label='Data-points')\n",
        "plt.scatter(a1,a2,color='red',label='support vectors')\n",
        "plt.legend()\n",
        "plt.show()"
      ],
      "execution_count": null,
      "outputs": [
        {
          "output_type": "display_data",
          "data": {
            "image/png": "[encoded data removed]",
            "text/plain": [
              "<Figure size 432x288 with 1 Axes>"
            ]
          },
          "metadata": {
            "needs_background": "light"
          }
        }
      ]
    },
    {
      "cell_type": "code",
      "metadata": {
        "colab": {
          "base_uri": "https://localhost:8080/",
          "height": 265
        },
        "id": "tpxt-AJu1pr7",
        "outputId": "ff98437f-5a40-41f5-8b2a-e6e578e164ff"
      },
      "source": [
        "#using sklearn library\n",
        "\n",
        "clf = SVC(kernel='linear', C=1000)\n",
        "clf.fit(x_train, y_train)\n",
        "\n",
        "plt.scatter(x_train[:, 0], x_train[:, 1], c=y_train, s=30, cmap=plt.cm.Paired)\n",
        "\n",
        "ax = plt.gca()\n",
        "xlim = ax.get_xlim()\n",
        "ylim = ax.get_ylim()\n",
        "\n",
        "xx = np.linspace(xlim[0], xlim[1], 30)\n",
        "yy = np.linspace(ylim[0], ylim[1], 30)\n",
        "YY, XX = np.meshgrid(yy, xx)\n",
        "xy = np.vstack([XX.ravel(), YY.ravel()]).T\n",
        "Z = clf.decision_function(xy).reshape(XX.shape)\n",
        "\n",
        "ax.contour(XX, YY, Z, colors='k', levels=[-1, 0, 1], alpha=0.5,\n",
        "           linestyles=['--', '-', '--'])\n",
        "\n",
        "ax.scatter(clf.support_vectors_[:, 0], clf.support_vectors_[:, 1], s=100,\n",
        "           linewidth=1, facecolors='none', edgecolors='k')\n",
        "plt.show()"
      ],
      "execution_count": null,
      "outputs": [
        {
          "output_type": "display_data",
          "data": {
            "image/png": "[encoded data removed]",
            "text/plain": [
              "<Figure size 432x288 with 1 Axes>"
            ]
          },
          "metadata": {
            "needs_background": "light"
          }
        }
      ]
    },
    {
      "cell_type": "code",
      "metadata": {
        "colab": {
          "base_uri": "https://localhost:8080/"
        },
        "id": "7eJ6PKHB5jC3",
        "outputId": "b5eaad1d-d3ae-43e1-ba10-6e5daa45d19b"
      },
      "source": [
        "#accuracy for sklearn\n",
        "\n",
        "y_predicted = clf.predict(x_test)\n",
        "print('Accuracy:', accuracy_score(y_test,y_predicted))"
      ],
      "execution_count": null,
      "outputs": [
        {
          "output_type": "stream",
          "name": "stdout",
          "text": [
            "Accuracy: 1.0\n"
          ]
        }
      ]
    },
    {
      "cell_type": "code",
      "metadata": {
        "id": "dINu4K-95djc"
      },
      "source": [
        "#throwing all the point except support vectors\n",
        "\n",
        "x_train_modified = np.copy(x_train).reshape(135,2)\n",
        "y_train_modified = np.copy(y_train)\n",
        "ind = []\n",
        "for i in range(len(svs)):\n",
        "  if svs[i] == False:\n",
        "    ind.append(i)\n",
        "\n",
        "ind = np.array(ind)\n",
        "ind = ind.astype(int)\n",
        "x_train_modified = np.delete(x_train_modified,ind,axis = 0)\n",
        "y_train_modified = np.delete(y_train_modified,ind,axis=0)"
      ],
      "execution_count": null,
      "outputs": []
    },
    {
      "cell_type": "code",
      "metadata": {
        "id": "jSLaRCC56QcD"
      },
      "source": [
        "#running the implemented svm classifier on only support vectors identified earlier\n",
        "\n",
        "theta,theta0,svs = hard_margin_svm(x_train_modified, y_train_modified)"
      ],
      "execution_count": null,
      "outputs": []
    },
    {
      "cell_type": "code",
      "metadata": {
        "colab": {
          "base_uri": "https://localhost:8080/",
          "height": 279
        },
        "id": "L1Vi5q3eBajf",
        "outputId": "30b6f56f-53ed-4670-9f3a-97691429b733"
      },
      "source": [
        "#plotting the decision boundary\n",
        "\n",
        "epsilon = 1e-4\n",
        "x_1 = np.arange(4,10,0.01)\n",
        "x_2 = np.arange(0,3,0.01)\n",
        "x_ax = []\n",
        "y_ax = []\n",
        "for i in x_1:\n",
        "  for j in x_2:\n",
        "    if theta[0]*i + theta[1]*j + theta0 <= epsilon and theta[0]*i + theta[1]*j + theta0 >= -epsilon:\n",
        "      x_ax.append(i)\n",
        "      y_ax.append(j)\n",
        "plt.plot(x_ax,y_ax,color='black',label='Decision boundary')\n",
        "plt.xlabel('SepalLengthCm')\n",
        "plt.ylabel('PetalWidthCm')\n",
        "plt.scatter(x_train_modified[:,0],x_train_modified[:,1],color='blue',label = 'data-points')\n",
        "plt.legend()\n",
        "plt.show()"
      ],
      "execution_count": null,
      "outputs": [
        {
          "output_type": "display_data",
          "data": {
            "image/png": "[encoded data removed]",
            "text/plain": [
              "<Figure size 432x288 with 1 Axes>"
            ]
          },
          "metadata": {
            "needs_background": "light"
          }
        }
      ]
    },
    {
      "cell_type": "markdown",
      "metadata": {
        "id": "ATikbAOJB_BZ"
      },
      "source": [
        "### Yes, the decision boundary remains the same"
      ]
    }
  ]
}